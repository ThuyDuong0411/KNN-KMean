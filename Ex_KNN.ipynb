{
  "nbformat": 4,
  "nbformat_minor": 0,
  "metadata": {
    "colab": {
      "provenance": []
    },
    "kernelspec": {
      "name": "python3",
      "display_name": "Python 3"
    },
    "language_info": {
      "name": "python"
    }
  },
  "cells": [
    {
      "cell_type": "markdown",
      "source": [
        "**3. KNN Iris**"
      ],
      "metadata": {
        "id": "6O1todgGBn1P"
      }
    },
    {
      "cell_type": "code",
      "source": [
        "import numpy as np\n",
        "from sklearn import datasets\n",
        "from sklearn.model_selection import train_test_split\n",
        "from sklearn.preprocessing import StandardScaler\n",
        "from sklearn.neighbors import KNeighborsClassifier\n",
        "from sklearn.metrics import accuracy_score\n",
        "\n",
        "#Load iris dataset\n",
        "iris_X, iris_y = datasets.load_iris(return_X_y=True)\n",
        "\n",
        "#Split train : test = 8:2\n",
        "X_train, X_test, y_train, y_test = train_test_split(iris_X, iris_y, test_size=0.2, random_state=42)\n",
        "\n",
        "#Scale the feature using StandardScaler\n",
        "scaler = StandardScaler()\n",
        "X_train = scaler.fit_transform(X_train)\n",
        "X_test = scaler.transform(X_test)\n",
        "\n",
        "#Buil KNN Classsifier\n",
        "knn_classifier = KNeighborsClassifier(n_neighbors=3)\n",
        "knn_classifier.fit(X_train, y_train)\n",
        "\n",
        "#Make prediction\n",
        "y_pred = knn_classifier.predict(X_test)\n",
        "accuracy_score(y_test,y_pred)"
      ],
      "metadata": {
        "colab": {
          "base_uri": "https://localhost:8080/"
        },
        "id": "Yyms60vTBu19",
        "outputId": "b142b32e-162c-4d2d-b803-9d33d0cfdf3a"
      },
      "execution_count": 3,
      "outputs": [
        {
          "output_type": "execute_result",
          "data": {
            "text/plain": [
              "1.0"
            ]
          },
          "metadata": {},
          "execution_count": 3
        }
      ]
    },
    {
      "cell_type": "markdown",
      "source": [
        "**7. KNN IMDB**"
      ],
      "metadata": {
        "id": "SV6XnYPfB2PU"
      }
    },
    {
      "cell_type": "code",
      "source": [
        "!pip install -q datasets\n",
        "import numpy as np\n",
        "from sklearn import datasets\n",
        "from sklearn.model_selection import train_test_split\n",
        "from sklearn.preprocessing import StandardScaler\n",
        "from sklearn.neighbors import KNeighborsClassifier\n",
        "from sklearn.feature_extraction.text import CountVectorizer\n",
        "from sklearn.metrics import accuracy_score\n",
        "from datasets import load_dataset\n",
        "\n",
        "#Load IMDB dataset\n",
        "imdb = load_dataset(\"imdb\")\n",
        "imdb_train = imdb['train']\n",
        "imdb_test = imdb['test']\n",
        "\n",
        "#Convert text to vector using BoW\n",
        "vectorizer = CountVectorizer(max_features=1000)\n",
        "X_train = vectorizer.fit_transform(imdb_train['text']).toarray()\n",
        "X_test = vectorizer.transform(imdb_test['text']).toarray()\n",
        "y_train = imdb_train['label']\n",
        "y_test = imdb_test['label']\n",
        "\n",
        "# Scale the feature using StandardScaler\n",
        "scaler = StandardScaler()\n",
        "X_train = scaler.fit_transform(X_train)\n",
        "X_test = scaler.transform(X_test)\n",
        "\n",
        "#Build KNN Classifier\n",
        "knn_classifier = KNeighborsClassifier(n_neighbors=1, algorithm='ball_tree')\n",
        "knn_classifier.fit(X_train, y_train)\n",
        "\n",
        "# Predict test set and evaluate\n",
        "y_pred = knn_classifier.predict(X_test)\n",
        "accuracy_score(y_test, y_pred)\n"
      ],
      "metadata": {
        "colab": {
          "base_uri": "https://localhost:8080/"
        },
        "id": "0636p4RRB03k",
        "outputId": "e802eff5-eb81-48c6-bbb1-08b41fbb70eb"
      },
      "execution_count": 8,
      "outputs": [
        {
          "output_type": "execute_result",
          "data": {
            "text/plain": [
              "0.60444"
            ]
          },
          "metadata": {},
          "execution_count": 8
        }
      ]
    }
  ]
}